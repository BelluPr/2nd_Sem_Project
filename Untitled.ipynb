{
 "cells": [
  {
   "cell_type": "code",
   "execution_count": null,
   "metadata": {},
   "outputs": [],
   "source": [
    "from keras.preprocessing.image import ImageDataGenerator, array_to_img, img_to_array, load_img\n",
    "from keras import optimizers\n",
    "from keras.callbacks import History \n",
    "from keras.applications import vgg16\n",
    "\n",
    "batch_size = 16\n",
    "\n",
    "# this is the augmentation configuration I will use for training\n",
    " train_datagen = ImageDataGenerator(rotation_range=20,\n",
    "                               zoom_range=0.2,\n",
    "                               horizontal_flip=True,\n",
    "                               fill_mode='nearest',\n",
    "                               preprocessing_function=vgg16.preprocess_input)\n",
    "\n",
    " # This is the augmentation configuration I will use for testing/validation... just a rescale\n",
    " test_datagen = ImageDataGenerator(rescale=1./255)\n",
    "\n",
    " # This is the generator which will read pictures found in my training subset\n",
    " train_generator = train_datagen.flow_from_directory('../data/train/',\n",
    "                                                target_size = (224, 224),\n",
    "                                                batch_size = batch_size,\n",
    "                                                shuffle=True,\n",
    "                                                class_mode = 'categorical',\n",
    "                                                seed=42)\n",
    "\n",
    "  # This is the generator for validation data\n",
    "  validation_generator = test_datagen.flow_from_directory('../data/validation/',\n",
    "                                                    target_size = (224, 224),\n",
    "                                                    batch_size = batch_size,\n",
    "                                                    class_mode = 'categorical')"
   ]
  }
 ],
 "metadata": {
  "kernelspec": {
   "display_name": "Python 3",
   "language": "python",
   "name": "python3"
  },
  "language_info": {
   "codemirror_mode": {
    "name": "ipython",
    "version": 3
   },
   "file_extension": ".py",
   "mimetype": "text/x-python",
   "name": "python",
   "nbconvert_exporter": "python",
   "pygments_lexer": "ipython3",
   "version": "3.8.5"
  }
 },
 "nbformat": 4,
 "nbformat_minor": 4
}
